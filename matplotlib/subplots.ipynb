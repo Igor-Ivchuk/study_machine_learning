{
 "cells": [
  {
   "cell_type": "code",
   "execution_count": null,
   "metadata": {
    "scrolled": true
   },
   "outputs": [],
   "source": [
    "import matplotlib.pyplot as plt\n",
    "import numpy as np\n",
    "\n",
    "t1 = np.arange(0., 5., 0.2)\n",
    "\n",
    "plt.subplot(2, 2, 1)\n",
    "plt.plot(t1,t1, color='blue')\n",
    "plt.title('Physical Sciences')\n",
    "\n",
    "plt.subplot(2, 2, 2)\n",
    "plt.plot(t1,t1**7, color='red')\n",
    "plt.title('Computer Science')\n",
    "\n",
    "plt.subplot(2, 2, 3)\n",
    "plt.plot(t1,t1**0.5, color='green')\n",
    "plt.title('Health Professions')\n",
    "\n",
    "plt.subplot(2, 2, 4)\n",
    "plt.plot(t1,t1**3, color='yellow')\n",
    "plt.title('Education')\n",
    "\n",
    "plt.tight_layout()\n",
    "plt.show()"
   ]
  }
 ],
 "metadata": {
  "celltoolbar": "Edit Metadata",
  "kernelspec": {
   "display_name": "Python 3",
   "language": "python",
   "name": "python3"
  },
  "language_info": {
   "codemirror_mode": {
    "name": "ipython",
    "version": 3
   },
   "file_extension": ".py",
   "mimetype": "text/x-python",
   "name": "python",
   "nbconvert_exporter": "python",
   "pygments_lexer": "ipython3",
   "version": "3.6.4"
  }
 },
 "nbformat": 4,
 "nbformat_minor": 2
}
